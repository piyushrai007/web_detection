{
 "cells": [
  {
   "cell_type": "code",
   "execution_count": 57,
   "metadata": {},
   "outputs": [
    {
     "data": {
      "text/plain": [
       "'E:\\\\web_componet_detection\\\\yolo_data'"
      ]
     },
     "execution_count": 57,
     "metadata": {},
     "output_type": "execute_result"
    }
   ],
   "source": [
    "import os\n",
    "os.getcwd()"
   ]
  },
  {
   "cell_type": "code",
   "execution_count": 58,
   "metadata": {},
   "outputs": [],
   "source": [
    "image_path = 'E:\\web_componet_detection\\yolo_data'\n",
    "os.chdir(image_path)"
   ]
  },
  {
   "cell_type": "code",
   "execution_count": 59,
   "metadata": {},
   "outputs": [],
   "source": [
    "path_list = []\n",
    "\n",
    "for current_dir, dirs, files in os.walk('.'):\n",
    "    for f in files:\n",
    "        if f.endswith('.jpg') or f.endswith('.png'):\n",
    "            file_loc = os.path.join(image_path, f)\n",
    "            path_list.append(file_loc+'\\n')\n",
    "\n",
    "\n",
    "        \n"
   ]
  },
  {
   "cell_type": "code",
   "execution_count": 60,
   "metadata": {},
   "outputs": [],
   "source": [
    "path_list_test = path_list[:int(len(path_list)*0.20)]\n",
    "path_list = path_list[int(len(path_list)*0.20):]\n"
   ]
  },
  {
   "cell_type": "code",
   "execution_count": 61,
   "metadata": {},
   "outputs": [],
   "source": [
    "with open('train.txt','w') as train:\n",
    "    for i in path_list:\n",
    "        train.write(i)\n",
    "with open('test.txt','w') as train:\n",
    "    for i in path_list_test:\n",
    "        train.write(i)"
   ]
  },
  {
   "cell_type": "code",
   "execution_count": 62,
   "metadata": {},
   "outputs": [],
   "source": [
    "i =0 \n",
    "with open(image_path+'/'+'classes.names','w')as cls,\\\n",
    "    open(image_path+'/'+'classes.txt','r')as text:\n",
    "\n",
    "    for l in text:\n",
    "        cls.write(l)\n",
    "        i+=1"
   ]
  },
  {
   "cell_type": "code",
   "execution_count": 63,
   "metadata": {},
   "outputs": [],
   "source": [
    "with open(image_path+'/''image_data','w') as data:\n",
    "    data.write('classes='+str(i)+'\\n')\n",
    "    data.write('train='+image_path+'/'+'train.txt'+'\\n')\n",
    "    data.write('valid='+image_path+'/' +'test.txt'+'\\n')\n",
    "    data.write('classes='+image_path+'/'+'classes.names'+'\\n')\n",
    "    data.write('backup=backup')\n"
   ]
  },
  {
   "cell_type": "code",
   "execution_count": null,
   "metadata": {},
   "outputs": [],
   "source": []
  }
 ],
 "metadata": {
  "kernelspec": {
   "display_name": "web_componet_detection",
   "language": "python",
   "name": "python3"
  },
  "language_info": {
   "codemirror_mode": {
    "name": "ipython",
    "version": 3
   },
   "file_extension": ".py",
   "mimetype": "text/x-python",
   "name": "python",
   "nbconvert_exporter": "python",
   "pygments_lexer": "ipython3",
   "version": "3.11.5"
  }
 },
 "nbformat": 4,
 "nbformat_minor": 2
}
